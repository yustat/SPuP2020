{
 "cells": [
  {
   "cell_type": "markdown",
   "metadata": {},
   "source": [
    "# 3. 조건문"
   ]
  },
  {
   "cell_type": "markdown",
   "metadata": {},
   "source": [
    "## if else 구문\n",
    "\n",
    "### Statement\n",
    "\n",
    "Python interpreter가 실행 가능한 문법에 옳은 문장들을 statement라 한다.  \n",
    "앞 장에서 공부한 statement들과 더불어 조건문과 반복문을 공부해 보자.\n",
    "\n",
    "* ```1 + 2```\n",
    "* ```x = 7```\n",
    "* ```print(\"Hello\")```\n",
    "* ```newstring = \"ABCD\".lower()```\n",
    "* 조건문\n",
    "* 반복문\n",
    "\n",
    "\n",
    "### 조건문\n",
    "\n",
    "프로그래머가 명시한 ```if```의 조건이 ```True```인가 ```False```인가에 따라 실행하는 문장(statement)이 달라지는 구문\n",
    " * 테스트 구문은 항상 ```True``` 혹은 ```False```로 계산된다.\n",
    " * ```if```절의 다음에는 만약 테스트 결과가 ```True```일 경우 실행될 코드 블록이 나타난다.\n",
    "    * 만약 테스트 구문이 ```False```로 판명나면 실행하지 않는다.\n",
    " * 추가적으로 만약 테스트 구문이 ```False```일 때 할 일을 나타낼 수 있다.\n",
    "    * 이에 해당되는 코드는 ```else``` 혹은 ```elif```의 구문에서 나타난다.\n",
    "\n",
    "<img src=\"https://github.com/ksublee/SPuP/blob/master/figure/if.png?raw=true\" width=\"250\" height=\"175\" />\n",
    "그림 출처 : Introduction to Computation and Programming Using Python, John V. Guttag"
   ]
  },
  {
   "cell_type": "markdown",
   "metadata": {},
   "source": [
    "아래 예제에 대한 간략한 설명이다. \n",
    "\n",
    "```x % 2 == 0``` (x를 2로 나눈 나머지가 0인가)의 연산결과가 ```True```이면\n",
    "* ```print('Even')```을 실행\n",
    "\n",
    "```False```이면\n",
    "* ```print('Odd')```을 실행"
   ]
  },
  {
   "cell_type": "code",
   "execution_count": 32,
   "metadata": {},
   "outputs": [
    {
     "name": "stdout",
     "output_type": "stream",
     "text": [
      "Odd\n"
     ]
    }
   ],
   "source": [
    "x = 15\n",
    "if x % 2 == 0:\n",
    "    print('Even')\n",
    "else:\n",
    "    print('Odd')"
   ]
  },
  {
   "cell_type": "markdown",
   "metadata": {},
   "source": [
    "### ```if```, ```else``` 문의 문법 구조\n",
    "\n",
    "* ```if else```구문의 기본적인 구조는 다음과 같다.\n",
    "\n",
    "```\n",
    "if 조건문:  \n",
    "  조건문 결과가 True일 경우 해야 할 일  \n",
    "else:  \n",
    "  조건문 결과가 False일 경우 해야 할 일\n",
    "```\n",
    "    \n",
    "* ```if```문과 ```else```의 마지막에 ```:```를 포함하여야 한다.\n",
    "* ```if```문은 test 조건문이 ```True```일 경우에 실행되는 코드 블록을 포함함.\n",
    "* ```else``` 문은 ```if``` 문에있는 조건식이 ```0``` 또는 ```False``` 값으로 해석될 때 실행되는 코드 블록을 포함함.\n",
    "* ```if```문과 ```else```의 내용은 들여쓰기(indentation)를 해야 함.\n",
    "* 하나의 ```if```에 대응되는 ```else```는 많아야 한 개  \n",
    "  * 필요가 없을 경우 ```else``` 문은 생략 가능 \n",
    "* 코드가 간단할 경우, 줄을 바꿔 들여쓰기를 하지 않고, 다음과 같은 문법도 가능하다.\n",
    "\n",
    "```\n",
    "if 조건문: 조건문 결과가 True일 경우 해야 할 일\n",
    "else: 조건문 결과가 False일 경우 해야 할 일\n",
    "```"
   ]
  },
  {
   "cell_type": "code",
   "execution_count": 4,
   "metadata": {},
   "outputs": [
    {
     "name": "stdout",
     "output_type": "stream",
     "text": [
      "get drunk\n"
     ]
    }
   ],
   "source": [
    "my_age = 25\n",
    "if my_age >= 20: print(\"get drunk\")\n",
    "else: print(\"not this time\")"
   ]
  },
  {
   "cell_type": "code",
   "execution_count": 1,
   "metadata": {},
   "outputs": [
    {
     "name": "stdout",
     "output_type": "stream",
     "text": [
      "not this time\n"
     ]
    }
   ],
   "source": [
    "my_age = 17\n",
    "if my_age >= 20: print(\"get drunk\")\n",
    "else: print(\"not this time\")"
   ]
  },
  {
   "cell_type": "markdown",
   "metadata": {},
   "source": [
    "```else``` 이 후의 내용이 필요 없을 경우 ```else``` 부분은 생략 가능"
   ]
  },
  {
   "cell_type": "code",
   "execution_count": 5,
   "metadata": {},
   "outputs": [
    {
     "name": "stdout",
     "output_type": "stream",
     "text": [
      "take a shower\n",
      "do a laundry\n"
     ]
    }
   ],
   "source": [
    "my_status = 'dirty'\n",
    "if my_status == 'dirty':\n",
    "    print(\"take a shower\")\n",
    "    print(\"do a laundry\")"
   ]
  },
  {
   "cell_type": "code",
   "execution_count": 6,
   "metadata": {},
   "outputs": [],
   "source": [
    "my_status = 'clean'\n",
    "if my_status == 'dirty':\n",
    "    print(\"take a shower\")\n",
    "    print(\"do a laundry\")"
   ]
  },
  {
   "cell_type": "markdown",
   "metadata": {},
   "source": [
    "#### 들여쓰기 - indentation\n",
    "* C/C++이나 JAVA와 같은 언어에서는 들여쓰기는 코드를 보기 좋게 만들기 위한 것일 뿐 필수적인 것은 아니다.\n",
    "* Python에서는 들여쓰기가 문법의 일부이므로 반드시 지키도록 한다.\n",
    "* 따라서 다음은 바로 위의 코드와는 다르게 작동한다."
   ]
  },
  {
   "cell_type": "code",
   "execution_count": 7,
   "metadata": {},
   "outputs": [
    {
     "name": "stdout",
     "output_type": "stream",
     "text": [
      "do a laundry\n"
     ]
    }
   ],
   "source": [
    "my_status = 'clean'\n",
    "if my_status == 'dirty':\n",
    "    print(\"take a shower\")\n",
    "print(\"do a laundry\")"
   ]
  },
  {
   "cell_type": "markdown",
   "metadata": {},
   "source": [
    "#### 간단한 예제:"
   ]
  },
  {
   "cell_type": "code",
   "execution_count": 2,
   "metadata": {},
   "outputs": [
    {
     "name": "stdout",
     "output_type": "stream",
     "text": [
      "if\n"
     ]
    }
   ],
   "source": [
    "if 3 < 4: print(\"if\")\n",
    "else: print(\"else\")"
   ]
  },
  {
   "cell_type": "code",
   "execution_count": 3,
   "metadata": {},
   "outputs": [
    {
     "name": "stdout",
     "output_type": "stream",
     "text": [
      "if\n"
     ]
    }
   ],
   "source": [
    "if \"3\" < \"4\": print(\"if\")\n",
    "else: print(\"else\")"
   ]
  },
  {
   "cell_type": "markdown",
   "metadata": {},
   "source": [
    "주의 : 조건문에서 두 값이 같은지 비교할 때는 ```==``` 를 이용해야 한다.\n",
    "따라서 다음 코드는 에러가 발생한다."
   ]
  },
  {
   "cell_type": "code",
   "execution_count": 10,
   "metadata": {},
   "outputs": [
    {
     "ename": "SyntaxError",
     "evalue": "invalid syntax (<ipython-input-10-bc1a75b24bad>, line 2)",
     "output_type": "error",
     "traceback": [
      "\u001b[1;36m  File \u001b[1;32m\"<ipython-input-10-bc1a75b24bad>\"\u001b[1;36m, line \u001b[1;32m2\u001b[0m\n\u001b[1;33m    if x = y:\u001b[0m\n\u001b[1;37m         ^\u001b[0m\n\u001b[1;31mSyntaxError\u001b[0m\u001b[1;31m:\u001b[0m invalid syntax\n"
     ]
    }
   ],
   "source": [
    "x, y = 3, 3\n",
    "if x = y:\n",
    "    print(\"x is equal to y.\")\n",
    "else:\n",
    "    print(\"x is different from y.\")"
   ]
  },
  {
   "cell_type": "markdown",
   "metadata": {},
   "source": [
    "주의 : 다음 두 코드의 차이점을 잘 살펴보자."
   ]
  },
  {
   "cell_type": "code",
   "execution_count": 11,
   "metadata": {},
   "outputs": [
    {
     "name": "stdout",
     "output_type": "stream",
     "text": [
      "-1\n"
     ]
    }
   ],
   "source": [
    "x = 1\n",
    "if x > 0:\n",
    "    x = x - 2\n",
    "else:\n",
    "    x = x + 2\n",
    "print(x)"
   ]
  },
  {
   "cell_type": "code",
   "execution_count": 3,
   "metadata": {},
   "outputs": [
    {
     "name": "stdout",
     "output_type": "stream",
     "text": [
      "1\n"
     ]
    }
   ],
   "source": [
    "x = 1\n",
    "if x > 0:\n",
    "    x = x - 2\n",
    "if x <= 0:\n",
    "    x = x + 2\n",
    "print(x)"
   ]
  },
  {
   "cell_type": "markdown",
   "metadata": {},
   "source": [
    "### nested ```if``` statement\n",
    "\n",
    "* 하나의 조건을 검사한 후에, 또다른 조건을 검사해야 될 필요가 있을 수 있다.\n",
    "* 이러한 경우 중첩된 ```if``` 구문을 사용할 수 있다.\n",
    "* 하나의 ```if```문 혹은 ```else```문 내에 또다른 ```if```,```else``` 구문이 나타날 수 있다.\n",
    "   * 마찬가지로 ```if```문 내에 ```if```문 내에 ```if```문이 등장할 수도 있다.\n",
    "* 최소값을 찾는 다음의 코드가 옳게 작동하는지 살펴 보고, 잘못된 부분이 있으면 개선하여 보자."
   ]
  },
  {
   "cell_type": "code",
   "execution_count": 13,
   "metadata": {},
   "outputs": [
    {
     "name": "stdout",
     "output_type": "stream",
     "text": [
      "y is the least\n"
     ]
    }
   ],
   "source": [
    "x=10\n",
    "y=5\n",
    "z=2\n",
    "if x<y:\n",
    "    if x<z:\n",
    "        print(\"x is the least\")\n",
    "    else:\n",
    "        print(\"z is the least\")\n",
    "else: print(\"y is the least\")"
   ]
  },
  {
   "cell_type": "markdown",
   "metadata": {},
   "source": [
    "### ```elif```을 통한 조건 추가 \n",
    "\n",
    "```elif``` 의 문법\n",
    "\n",
    "```\n",
    "if expression1:  \n",
    "  statement1(s)  \n",
    "elif expression2:  \n",
    "  statement2(s)  \n",
    "elif expression3:  \n",
    "  statement3(s)  \n",
    "else:  \n",
    "  statement4(s)\n",
    "```\n",
    "\n",
    "\n",
    "* ```elif``` 문을 사용하면 여러 표현식을 검사하고, 조건 중 하나가 ```True```로 판정되는 코드 블록을 실행\n",
    "* ```else```와 마찬가지로 ```elif``` 프로그램의 목적에 따라 생략이 될 수 있음\n",
    "* 그러나 많아야 한 번 등장하는 ```else```와는 달리, ```if``` 다음에 임의의 수의 ```elif``` 문이 있을 수 있음"
   ]
  },
  {
   "cell_type": "code",
   "execution_count": 4,
   "metadata": {},
   "outputs": [
    {
     "name": "stdout",
     "output_type": "stream",
     "text": [
      "z is the least\n"
     ]
    }
   ],
   "source": [
    "x = 10\n",
    "y = 5\n",
    "z = 2\n",
    "if x < y and x < z: print(\"x is the least\")\n",
    "elif y < z: print(\"y is the least\")\n",
    "else: print(\"z is the least\")"
   ]
  },
  {
   "cell_type": "markdown",
   "metadata": {},
   "source": [
    "* ```if```문에서 ```and``` 를 이용하여 두 조건을 동시에 넣은 것에 주의\n",
    "* ```if```의 조건에 해당하지 않으면 (x가 최소값이 아니라면), 두 번째 조건이 ```elif``` 뒤에 명시되는 것을 확인"
   ]
  },
  {
   "cell_type": "markdown",
   "metadata": {},
   "source": [
    "#### 예제"
   ]
  },
  {
   "cell_type": "code",
   "execution_count": 15,
   "metadata": {},
   "outputs": [
    {
     "name": "stdout",
     "output_type": "stream",
     "text": [
      "three digit number\n"
     ]
    }
   ],
   "source": [
    "x = 123\n",
    "if x < 10:\n",
    "    print('one digit number')\n",
    "elif x < 100:\n",
    "    print('two digit number')\n",
    "elif x < 1000:\n",
    "    print('three digit number')\n",
    "else:\n",
    "    print('large number')"
   ]
  },
  {
   "cell_type": "markdown",
   "metadata": {},
   "source": [
    "#### 예제 \n",
    "다음의 예제는 ```elif```을 사용하여 보다 간단하게 작성할 수 있다. 스스로 작성하여 보자."
   ]
  },
  {
   "cell_type": "code",
   "execution_count": 16,
   "metadata": {},
   "outputs": [
    {
     "name": "stdout",
     "output_type": "stream",
     "text": [
      "Divisible by 3 and not by 2\n"
     ]
    }
   ],
   "source": [
    "if x%2 == 0:\n",
    "    if x%3 == 0:\n",
    "        print('Divisible by 2 and 3')\n",
    "    else:\n",
    "        print('Divisible by 2 and not by 3')\n",
    "elif x%3 == 0:\n",
    "    print('Divisible by 3 and not by 2')"
   ]
  },
  {
   "cell_type": "markdown",
   "metadata": {},
   "source": [
    "#### Boolean 연산 : and, or, not"
   ]
  },
  {
   "cell_type": "code",
   "execution_count": 17,
   "metadata": {},
   "outputs": [
    {
     "data": {
      "text/plain": [
       "True"
      ]
     },
     "execution_count": 17,
     "metadata": {},
     "output_type": "execute_result"
    }
   ],
   "source": [
    "True and True"
   ]
  },
  {
   "cell_type": "code",
   "execution_count": 18,
   "metadata": {},
   "outputs": [
    {
     "data": {
      "text/plain": [
       "False"
      ]
     },
     "execution_count": 18,
     "metadata": {},
     "output_type": "execute_result"
    }
   ],
   "source": [
    "True and False"
   ]
  },
  {
   "cell_type": "code",
   "execution_count": 19,
   "metadata": {},
   "outputs": [
    {
     "data": {
      "text/plain": [
       "False"
      ]
     },
     "execution_count": 19,
     "metadata": {},
     "output_type": "execute_result"
    }
   ],
   "source": [
    "False and True"
   ]
  },
  {
   "cell_type": "code",
   "execution_count": 20,
   "metadata": {},
   "outputs": [
    {
     "data": {
      "text/plain": [
       "False"
      ]
     },
     "execution_count": 20,
     "metadata": {},
     "output_type": "execute_result"
    }
   ],
   "source": [
    "False and False"
   ]
  },
  {
   "cell_type": "code",
   "execution_count": 21,
   "metadata": {},
   "outputs": [
    {
     "data": {
      "text/plain": [
       "True"
      ]
     },
     "execution_count": 21,
     "metadata": {},
     "output_type": "execute_result"
    }
   ],
   "source": [
    "True or True"
   ]
  },
  {
   "cell_type": "code",
   "execution_count": 22,
   "metadata": {},
   "outputs": [
    {
     "data": {
      "text/plain": [
       "True"
      ]
     },
     "execution_count": 22,
     "metadata": {},
     "output_type": "execute_result"
    }
   ],
   "source": [
    "True or False"
   ]
  },
  {
   "cell_type": "code",
   "execution_count": 23,
   "metadata": {},
   "outputs": [
    {
     "data": {
      "text/plain": [
       "True"
      ]
     },
     "execution_count": 23,
     "metadata": {},
     "output_type": "execute_result"
    }
   ],
   "source": [
    "False or True"
   ]
  },
  {
   "cell_type": "code",
   "execution_count": 24,
   "metadata": {},
   "outputs": [
    {
     "data": {
      "text/plain": [
       "False"
      ]
     },
     "execution_count": 24,
     "metadata": {},
     "output_type": "execute_result"
    }
   ],
   "source": [
    "False or False"
   ]
  },
  {
   "cell_type": "code",
   "execution_count": 25,
   "metadata": {},
   "outputs": [
    {
     "data": {
      "text/plain": [
       "False"
      ]
     },
     "execution_count": 25,
     "metadata": {},
     "output_type": "execute_result"
    }
   ],
   "source": [
    "not True"
   ]
  },
  {
   "cell_type": "code",
   "execution_count": 26,
   "metadata": {},
   "outputs": [
    {
     "data": {
      "text/plain": [
       "True"
      ]
     },
     "execution_count": 26,
     "metadata": {},
     "output_type": "execute_result"
    }
   ],
   "source": [
    "not False"
   ]
  },
  {
   "cell_type": "markdown",
   "metadata": {},
   "source": [
    "#### 예제"
   ]
  },
  {
   "cell_type": "code",
   "execution_count": 27,
   "metadata": {},
   "outputs": [
    {
     "name": "stdout",
     "output_type": "stream",
     "text": [
      "else\n"
     ]
    }
   ],
   "source": [
    "x = 3\n",
    "y = 7\n",
    "if x < y and x < 0: print(\"if\")\n",
    "else: print(\"else\")"
   ]
  },
  {
   "cell_type": "code",
   "execution_count": 28,
   "metadata": {},
   "outputs": [
    {
     "name": "stdout",
     "output_type": "stream",
     "text": [
      "if\n"
     ]
    }
   ],
   "source": [
    "x = 3\n",
    "y = 7\n",
    "if x < y or x < 0: print(\"if\")\n",
    "else: print(\"else\")"
   ]
  },
  {
   "cell_type": "markdown",
   "metadata": {},
   "source": [
    "#### 예제\n",
    "\n",
    "다음의 예제에서는 파일의 확장자가 .csv, .tsv, .txt일 경우 올바른 파일 형식으로 간주하고, 그렇지 않으면 잘못된 형식이라고 출력한다."
   ]
  },
  {
   "cell_type": "code",
   "execution_count": 6,
   "metadata": {},
   "outputs": [
    {
     "name": "stdout",
     "output_type": "stream",
     "text": [
      "Right file format\n"
     ]
    }
   ],
   "source": [
    "# 이 예제는 s12345678에 의해 제공되었다.\n",
    "filename = \"mydata.csv\"\n",
    "if filename.endswith(\".csv\") or filename.endswith(\".tsv\") or filename.endswith(\".txt\"):\n",
    "    print(\"Right file format\")\n",
    "else:\n",
    "    print(\"Wrong file format\")"
   ]
  },
  {
   "cell_type": "markdown",
   "metadata": {},
   "source": [
    "#### 예제\n",
    "```input()``` 함수와 결합한 예제"
   ]
  },
  {
   "cell_type": "code",
   "execution_count": 31,
   "metadata": {},
   "outputs": [
    {
     "name": "stdout",
     "output_type": "stream",
     "text": [
      "In Python, = is used for equality comparison, right? Yes or No >> no\n",
      "You have cleared the test.\n",
      "Thanks!\n"
     ]
    }
   ],
   "source": [
    "answer = input(\"In Python, = is used for equality comparison, right? Yes or No >> \").lower()\n",
    "\n",
    "if answer == \"no\" :\n",
    "    print(\"You have cleared the test.\")\n",
    "else :\n",
    "    print(\"You have failed the test.\")\n",
    "\n",
    "print(\"Thanks!\")"
   ]
  },
  {
   "cell_type": "markdown",
   "metadata": {},
   "source": [
    "### Inline ```if-else``` statements\n",
    "Python은 다음과 같이 ```if else```를 한 라인에 작성할 수 있도록 지원한다."
   ]
  },
  {
   "cell_type": "code",
   "execution_count": 39,
   "metadata": {},
   "outputs": [
    {
     "name": "stdout",
     "output_type": "stream",
     "text": [
      "large\n"
     ]
    }
   ],
   "source": [
    "a = 37\n",
    "y = \"large\" if a ** 2 > 1000 else \"small\"\n",
    "print(y)"
   ]
  },
  {
   "cell_type": "markdown",
   "metadata": {},
   "source": [
    "위 코드는 아래 코드와 같다."
   ]
  },
  {
   "cell_type": "code",
   "execution_count": 40,
   "metadata": {},
   "outputs": [
    {
     "name": "stdout",
     "output_type": "stream",
     "text": [
      "large\n"
     ]
    }
   ],
   "source": [
    "a = 37\n",
    "if a ** 2 > 1000: y = \"large\"\n",
    "else: y = \"small\"\n",
    "print(y)"
   ]
  },
  {
   "cell_type": "markdown",
   "metadata": {},
   "source": [
    "### 연습문제\n",
    "\n",
    "다음의 연습문제들은 2, 3 단원의 내용만을 이용하여 작성해 보라.\n",
    "\n",
    "* 정수인 변수가 주어졌을 때, 홀수(odd)인지 짝수(even)인지 판별하는 프로그램을 작성하라."
   ]
  },
  {
   "cell_type": "markdown",
   "metadata": {},
   "source": [
    "* 월(month)이 대입된 정수인 변수가 주어졌을 때, 해당 월이 며칠인지 출력하는 프로그램을 작성하라."
   ]
  },
  {
   "cell_type": "markdown",
   "metadata": {},
   "source": [
    " * x, y, z의 세 개의 변수가 있다. 이 세 변수를 검사하여 가장 큰 홀수를 프린트하라. 만약 세 변수가 모두 홀수가 아니라면, 홀수가 없다는 메시지를 출력하라."
   ]
  },
  {
   "cell_type": "markdown",
   "metadata": {},
   "source": [
    " * 삼각형 세 변의 길이가 변수로 주어졌을 때, 정삼각형(Equilateral triangle), 이등변삼각형(Isosceles triangle), 일반삼각형(triangle)을 구분하는 프로그램을 작성하라."
   ]
  },
  {
   "cell_type": "markdown",
   "metadata": {},
   "source": [
    "* 삼각형 세 변의 길이가 변수로 주어졌을 때, 직각 삼각형인지 아닌지 판단하는 프로그램을 작성하라."
   ]
  },
  {
   "cell_type": "markdown",
   "metadata": {},
   "source": [
    "* 두 자리 정수가 대입된 변수를 검사하여, 십의 자리 숫자와 일의 자리 숫자의 합이 10이 넘는지 판단하는 프로그램을 작성하라."
   ]
  },
  {
   "cell_type": "markdown",
   "metadata": {},
   "source": [
    "* 13자리 숫자가 ISBN 13자리 코드의 원칙에 맞는지 판단하는 프로그램을 작성하라.\n",
    "  * ISBN코드가 abcdefghijklm일 때, $a+3b+c+3d+e+3f+g+3h+i+3j+k+3l+m$이 10으로 나누어 떨어져야 한다."
   ]
  },
  {
   "cell_type": "markdown",
   "metadata": {},
   "source": [
    "* 해(year)가 윤년인지를 판단하는 프로그램을 작성하라. 윤년의 규칙은 다음과 같다.\n",
    "  * 서력 기원 연수가 4로 나누어 떨어지는 해는 윤년으로 한다.(1988년, 1992년, 1996년, 2004년, 2008년, 2012년 …)\n",
    "  * 이 중에서 100으로 나누어 떨어지는 해는 평년으로 한다.(1900년, 2100년, 2200년, 2300년, 2500년 …)\n",
    "  * 그중에 400으로 나누어 떨어지는 해는 윤년으로 둔다."
   ]
  },
  {
   "cell_type": "markdown",
   "metadata": {},
   "source": [
    "* 문자열 변수를 검사하여, 마지막 글자가 모음(a, e, i, o, u, A, E, I, O, U)으로 끝나는지 아닌지 판단하는 프로그램을 작성하라."
   ]
  },
  {
   "cell_type": "markdown",
   "metadata": {},
   "source": [
    "* 문자열 변수를 검사하여, 첫 글자와 마지막 글자가 같은지 검사하는 프로그램을 작성하라. 대소문자는 구분하지 않는다. 즉, Mom은 첫 글자와 마지막 글자가 같은 단어로 간주한다."
   ]
  },
  {
   "cell_type": "markdown",
   "metadata": {},
   "source": [
    "* 두 문자열 변수를 검사하여, 첫 글자끼리 서로 같은지 검사하는 프로그램을 작성하라. 대소문자는 구분하지 않는다."
   ]
  },
  {
   "cell_type": "markdown",
   "metadata": {},
   "source": [
    "* 0 이상 100 이하의 값이 입력된 변수를 검사하여, grade를 정하는 프로그램을 작성하라. 규칙은 다음을 따른다.\n",
    "\n",
    "  * 95 이상 : A+  \n",
    "  * 90 이상 95 미만 : A  \n",
    "  * 85 이상 90 미만 : B+  \n",
    "  * 80 이상 85 미만 : B  \n",
    "  * 그 외의 점수 : C  "
   ]
  },
  {
   "cell_type": "markdown",
   "metadata": {},
   "source": [
    "* 몸무게, 키, 성별이 저장된 변수를 조사하여 비만도를 체크하는 프로그램을 작성하라. 비만도 기준은 다음의 자료를 이용하라.   \n",
    "http://health.cdc.go.kr/health/mobileweb/content/group_view.jsp?CID=XUNT32FT6B"
   ]
  }
 ],
 "metadata": {
  "kernelspec": {
   "display_name": "Python 3",
   "language": "python",
   "name": "python3"
  },
  "language_info": {
   "codemirror_mode": {
    "name": "ipython",
    "version": 3
   },
   "file_extension": ".py",
   "mimetype": "text/x-python",
   "name": "python",
   "nbconvert_exporter": "python",
   "pygments_lexer": "ipython3",
   "version": "3.6.8"
  }
 },
 "nbformat": 4,
 "nbformat_minor": 2
}
